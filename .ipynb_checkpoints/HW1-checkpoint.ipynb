{
 "cells": [
  {
   "cell_type": "code",
   "execution_count": 176,
   "metadata": {},
   "outputs": [],
   "source": [
    "from sklearn.datasets import fetch_20newsgroups\n",
    "from sklearn.feature_extraction.text import TfidfVectorizer\n",
    "vectorizer = TfidfVectorizer(max_features=5000)\n",
    "vectors = vectorizer.fit_transform(newsgroups_train.data)\n",
    "newsgroups_train = fetch_20newsgroups(subset='train', remove=('headers', 'footers', 'quotes'))"
   ]
  },
  {
   "cell_type": "code",
   "execution_count": 177,
   "metadata": {},
   "outputs": [
    {
     "name": "stdout",
     "output_type": "stream",
     "text": [
      "(11314,)\n",
      "7\n"
     ]
    }
   ],
   "source": [
    "print(newsgroups_train.target.shape)\n",
    "vectors_train = vectors.toarray()\n",
    "print(newsgroups_train.target[0])"
   ]
  },
  {
   "cell_type": "code",
   "execution_count": 178,
   "metadata": {},
   "outputs": [
    {
     "name": "stdout",
     "output_type": "stream",
     "text": [
      "53\n"
     ]
    }
   ],
   "source": [
    "print(np.count_nonzero(vectors_train[0]))"
   ]
  },
  {
   "cell_type": "code",
   "execution_count": 179,
   "metadata": {},
   "outputs": [
    {
     "name": "stdout",
     "output_type": "stream",
     "text": [
      "[-1 -1 -1 ... -1 -1 -1]\n"
     ]
    }
   ],
   "source": [
    "targets = []\n",
    "for i in range(20):\n",
    "    targets.append([])\n",
    "for item in newsgroups_train.target:\n",
    "    for i in range(20):\n",
    "        if i == item:\n",
    "            targets[i].append(1)\n",
    "        else:\n",
    "            targets[i].append(-1)\n",
    "targets = np.array(targets)\n",
    "print(targets[0])"
   ]
  },
  {
   "cell_type": "code",
   "execution_count": 198,
   "metadata": {},
   "outputs": [],
   "source": [
    "import numpy as np\n",
    "from tqdm.notebook import tqdm\n",
    "import matplotlib.pyplot as plt\n",
    "import math\n",
    "# from data_loader import data\n",
    "\n",
    "\n",
    "def sigmoid(X):\n",
    "    return 1 / (1 + np.exp(-X))\n",
    "\n",
    "class Perceptron:\n",
    "    def __init__(self, input_dim, learning_rate=0.001, epochs=100):\n",
    "        self.learning_rate = learning_rate\n",
    "        self.random_init(input_dim, 1)\n",
    "        self.hidden_dim = 1\n",
    "        self.input_dim = input_dim\n",
    "        self.epochs = epochs\n",
    "\n",
    "    def random_init(self, input_dim, hidden_dim):\n",
    "        \"\"\" Intialize the model parameters randomly \"\"\"\n",
    "        self.W1 = np.random.normal(loc=0.0, scale=0.1, size=(input_dim, hidden_dim))\n",
    "        self.b1 = np.zeros((hidden_dim, 1))\n",
    "\n",
    "    def forward_propagation(self, x):\n",
    "        \"\"\"\n",
    "        Compute forward propagation step. This is called by fit function.\n",
    "        input:\n",
    "            x: a numpy vector. Single data point.\n",
    "        output:\n",
    "            z1: input layer pre-activation function output.\n",
    "            a1: input layer activation function output.\n",
    "        \"\"\"\n",
    "\n",
    "        #############################################################################\n",
    "        # TODO: Compute the input layer pre-activation linear function.             #\n",
    "        #############################################################################\n",
    "        # START OF YOUR CODE\n",
    "        z1 = np.dot(np.transpose(self.W1), x) + self.b1\n",
    "        \n",
    "        if z1 >= 0:\n",
    "            a1 = 1\n",
    "        else:\n",
    "            a1 = -1\n",
    "\n",
    "        return z1, a1\n",
    "\n",
    "    def update(self, x, y, z1, a1):\n",
    "        #############################################################################\n",
    "        # TODO: Compute W2 and b2 gradiants.                                        #\n",
    "        #############################################################################\n",
    "        # START OF YOUR CODE\n",
    "        if y != a1: \n",
    "            self.W1 = self.W1 + (np.multiply(self.learning_rate, np.multiply(y, x)))\n",
    "            self.b1 = self.b1 + (self.learning_rate * y)\n",
    "\n",
    "    def fit(self, X, Y, plot_loss=False):\n",
    "        index = list(range(X.shape[0]))\n",
    "        for epoch in range(self.epochs):\n",
    "            np.random.shuffle(index)\n",
    "            for idx in index:\n",
    "                x = X[idx]\n",
    "                x= x.reshape(1, self.input_dim).T\n",
    "                y = Y[idx]\n",
    "                z1, a1 = self.forward_propagation(x)\n",
    "                self.update(x, y, z1, a1)\n",
    "\n",
    "    def predict(self, X):\n",
    "        #############################################################################\n",
    "        # TODO: Implement the predict function.                                     #\n",
    "        #############################################################################\n",
    "        # START OF YOUR CODE\n",
    "        results = []\n",
    "        for x in X:\n",
    "            x = x.reshape(1, self.input_dim).T\n",
    "            z1, a1= self.forward_propagation(x)\n",
    "            results.append([z1, a1])\n",
    "        Y_hat = np.array(results).reshape([len(X), 2])\n",
    "        return Y_hat\n"
   ]
  },
  {
   "cell_type": "code",
   "execution_count": 203,
   "metadata": {},
   "outputs": [],
   "source": [
    "classifiers = []\n",
    "for it in range(20):\n",
    "    classifiers.append(Perceptron(5000, 1, epochs=50))\n",
    "    classifiers[-1].fit(vectors_train, targets[it])"
   ]
  },
  {
   "cell_type": "code",
   "execution_count": 204,
   "metadata": {},
   "outputs": [],
   "source": [
    "newsgroups_test = fetch_20newsgroups(subset='test', remove=('headers', 'footers', 'quotes'))\n",
    "vectors_test = vectorizer.transform(newsgroups_test.data)\n",
    "vectors_test = vectors_test.toarray()\n",
    "test_targets = []\n",
    "for i in range(20):\n",
    "    test_targets.append([])\n",
    "for item in newsgroups_test.target:\n",
    "    for i in range(20):\n",
    "        if i == item:\n",
    "            test_targets[i].append(1)\n",
    "        else:\n",
    "            test_targets[i].append(0)\n",
    "test_targets = np.array(test_targets)"
   ]
  },
  {
   "cell_type": "code",
   "execution_count": null,
   "metadata": {},
   "outputs": [],
   "source": [
    "result = class0.predict(vectors_test)\n",
    "print([item for item in result if item[1] == 1])"
   ]
  },
  {
   "cell_type": "code",
   "execution_count": 167,
   "metadata": {},
   "outputs": [
    {
     "name": "stdout",
     "output_type": "stream",
     "text": [
      "[]\n"
     ]
    }
   ],
   "source": [
    "result = class0.predict(vectors_train)\n",
    "print([item for item in result if item[1] == 1])"
   ]
  },
  {
   "cell_type": "code",
   "execution_count": 205,
   "metadata": {},
   "outputs": [],
   "source": [
    "metrics = []\n",
    "results = []\n",
    "for i in range(20):\n",
    "    metrics.append({\"tp\":0, \"fn\":0, \"tn\":0, \"fp\":0})\n",
    "    result = classifiers[i].predict(vectors_train)\n",
    "    results.append(result)\n",
    "    count = 0\n",
    "    for item in result:\n",
    "        if item[1] == targets[i][count] and item[1] == 1:\n",
    "            metrics[-1]['tp'] += 1\n",
    "        elif item[1] == targets[i][count] and item[1] == -1:\n",
    "            metrics[-1]['tn'] += 1\n",
    "        elif item[1] != targets[i][count] and item[1] == 1:\n",
    "            metrics[-1]['fp'] += 1 \n",
    "        elif item[1] != targets[i][count] and item[1] == -1:\n",
    "            metrics[-1]['fn'] += 1 \n",
    "        count += 1"
   ]
  },
  {
   "cell_type": "code",
   "execution_count": 206,
   "metadata": {},
   "outputs": [
    {
     "data": {
      "text/plain": [
       "[{'tp': 394, 'fn': 86, 'tn': 10830, 'fp': 4},\n",
       " {'tp': 505, 'fn': 79, 'tn': 10707, 'fp': 23},\n",
       " {'tp': 397, 'fn': 194, 'tn': 10718, 'fp': 5},\n",
       " {'tp': 524, 'fn': 66, 'tn': 10655, 'fp': 69},\n",
       " {'tp': 482, 'fn': 96, 'tn': 10735, 'fp': 1},\n",
       " {'tp': 585, 'fn': 8, 'tn': 10713, 'fp': 8},\n",
       " {'tp': 565, 'fn': 20, 'tn': 10720, 'fp': 9},\n",
       " {'tp': 551, 'fn': 43, 'tn': 10649, 'fp': 71},\n",
       " {'tp': 567, 'fn': 31, 'tn': 10670, 'fp': 46},\n",
       " {'tp': 552, 'fn': 45, 'tn': 10685, 'fp': 32},\n",
       " {'tp': 549, 'fn': 51, 'tn': 10711, 'fp': 3},\n",
       " {'tp': 467, 'fn': 128, 'tn': 10719, 'fp': 0},\n",
       " {'tp': 253, 'fn': 338, 'tn': 10723, 'fp': 0},\n",
       " {'tp': 574, 'fn': 20, 'tn': 10636, 'fp': 84},\n",
       " {'tp': 570, 'fn': 23, 'tn': 10692, 'fp': 29},\n",
       " {'tp': 441, 'fn': 158, 'tn': 10715, 'fp': 0},\n",
       " {'tp': 478, 'fn': 68, 'tn': 10768, 'fp': 0},\n",
       " {'tp': 546, 'fn': 18, 'tn': 10743, 'fp': 7},\n",
       " {'tp': 418, 'fn': 47, 'tn': 10839, 'fp': 10},\n",
       " {'tp': 221, 'fn': 156, 'tn': 10934, 'fp': 3}]"
      ]
     },
     "execution_count": 206,
     "metadata": {},
     "output_type": "execute_result"
    }
   ],
   "source": [
    "metrics"
   ]
  },
  {
   "cell_type": "code",
   "execution_count": 209,
   "metadata": {},
   "outputs": [],
   "source": [
    "all_results = []\n",
    "for i in range(vectors_train.shape[0]):\n",
    "    data = []\n",
    "    for j in range(20):\n",
    "        data.append(results[j][i][0])\n",
    "    all_results.append(data)\n",
    "        "
   ]
  },
  {
   "cell_type": "code",
   "execution_count": 214,
   "metadata": {},
   "outputs": [],
   "source": [
    "count = 0\n",
    "t = 0\n",
    "f = 0\n",
    "for item in all_results:\n",
    "    if np.argmax(item) == newsgroups_train.target[count]:\n",
    "        t += 1\n",
    "    else:\n",
    "        f += 1\n",
    "    count += 1"
   ]
  },
  {
   "cell_type": "code",
   "execution_count": 215,
   "metadata": {},
   "outputs": [
    {
     "name": "stdout",
     "output_type": "stream",
     "text": [
      "10591\n",
      "723\n"
     ]
    }
   ],
   "source": [
    "print(t)\n",
    "print(f)"
   ]
  },
  {
   "cell_type": "code",
   "execution_count": 216,
   "metadata": {},
   "outputs": [
    {
     "name": "stdout",
     "output_type": "stream",
     "text": [
      "0.9360968711331095\n"
     ]
    }
   ],
   "source": [
    "print(t/(t+f))"
   ]
  },
  {
   "cell_type": "code",
   "execution_count": 219,
   "metadata": {},
   "outputs": [
    {
     "name": "stdout",
     "output_type": "stream",
     "text": [
      "0.4928305894848646\n"
     ]
    }
   ],
   "source": [
    "metrics = []\n",
    "results = []\n",
    "for i in range(20):\n",
    "    metrics.append({\"tp\":0, \"fn\":0, \"tn\":0, \"fp\":0})\n",
    "    result = classifiers[i].predict(vectors_test)\n",
    "    results.append(result)\n",
    "    count = 0\n",
    "    for item in result:\n",
    "        if item[1] == test_targets[i][count] and item[1] == 1:\n",
    "            metrics[-1]['tp'] += 1\n",
    "        elif item[1] == test_targets[i][count] and item[1] == -1:\n",
    "            metrics[-1]['tn'] += 1\n",
    "        elif item[1] != test_targets[i][count] and item[1] == 1:\n",
    "            metrics[-1]['fp'] += 1 \n",
    "        elif item[1] != test_targets[i][count] and item[1] == -1:\n",
    "            metrics[-1]['fn'] += 1 \n",
    "        count += 1\n",
    "all_results = []\n",
    "for i in range(vectors_test.shape[0]):\n",
    "    data = []\n",
    "    for j in range(20):\n",
    "        data.append(results[j][i][0])\n",
    "    all_results.append(data)\n",
    "count = 0\n",
    "t = 0\n",
    "f = 0\n",
    "for item in all_results:\n",
    "    if np.argmax(item) == newsgroups_test.target[count]:\n",
    "        t += 1\n",
    "    else:\n",
    "        f += 1\n",
    "    count += 1\n",
    "print(t/(t+f))"
   ]
  },
  {
   "cell_type": "code",
   "execution_count": null,
   "metadata": {},
   "outputs": [],
   "source": []
  }
 ],
 "metadata": {
  "kernelspec": {
   "display_name": "Python 3",
   "language": "python",
   "name": "python3"
  },
  "language_info": {
   "codemirror_mode": {
    "name": "ipython",
    "version": 3
   },
   "file_extension": ".py",
   "mimetype": "text/x-python",
   "name": "python",
   "nbconvert_exporter": "python",
   "pygments_lexer": "ipython3",
   "version": "3.7.3"
  }
 },
 "nbformat": 4,
 "nbformat_minor": 4
}
