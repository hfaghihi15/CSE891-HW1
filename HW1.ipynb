{
 "cells": [
  {
   "cell_type": "code",
   "execution_count": 220,
   "metadata": {},
   "outputs": [],
   "source": [
    "from sklearn.datasets import fetch_20newsgroups\n",
    "from sklearn.feature_extraction.text import TfidfVectorizer\n",
    "vectorizer = TfidfVectorizer(max_features=5000)\n",
    "vectors = vectorizer.fit_transform(newsgroups_train.data)\n",
    "newsgroups_train = fetch_20newsgroups(subset='train', remove=('headers', 'footers', 'quotes'))"
   ]
  },
  {
   "cell_type": "code",
   "execution_count": 221,
   "metadata": {},
   "outputs": [
    {
     "name": "stdout",
     "output_type": "stream",
     "text": [
      "(11314,)\n",
      "7\n"
     ]
    }
   ],
   "source": [
    "print(newsgroups_train.target.shape)\n",
    "vectors_train = vectors.toarray()\n",
    "print(newsgroups_train.target[0])"
   ]
  },
  {
   "cell_type": "code",
   "execution_count": 178,
   "metadata": {},
   "outputs": [
    {
     "name": "stdout",
     "output_type": "stream",
     "text": [
      "53\n"
     ]
    }
   ],
   "source": [
    "print(np.count_nonzero(vectors_train[0]))"
   ]
  },
  {
   "cell_type": "code",
   "execution_count": 222,
   "metadata": {},
   "outputs": [
    {
     "name": "stdout",
     "output_type": "stream",
     "text": [
      "[-1 -1 -1 ... -1 -1 -1]\n"
     ]
    }
   ],
   "source": [
    "targets = []\n",
    "for i in range(20):\n",
    "    targets.append([])\n",
    "for item in newsgroups_train.target:\n",
    "    for i in range(20):\n",
    "        if i == item:\n",
    "            targets[i].append(1)\n",
    "        else:\n",
    "            targets[i].append(-1)\n",
    "targets = np.array(targets)\n",
    "print(targets[0])"
   ]
  },
  {
   "cell_type": "code",
   "execution_count": 223,
   "metadata": {},
   "outputs": [],
   "source": [
    "import numpy as np\n",
    "from tqdm.notebook import tqdm\n",
    "import matplotlib.pyplot as plt\n",
    "import math\n",
    "# from data_loader import data\n",
    "\n",
    "\n",
    "def sigmoid(X):\n",
    "    return 1 / (1 + np.exp(-X))\n",
    "\n",
    "class Perceptron:\n",
    "    def __init__(self, input_dim, learning_rate=0.001, epochs=100):\n",
    "        self.learning_rate = learning_rate\n",
    "        self.random_init(input_dim, 1)\n",
    "        self.hidden_dim = 1\n",
    "        self.input_dim = input_dim\n",
    "        self.epochs = epochs\n",
    "\n",
    "    def random_init(self, input_dim, hidden_dim):\n",
    "        \"\"\" Intialize the model parameters randomly \"\"\"\n",
    "        self.W1 = np.random.normal(loc=0.0, scale=0.1, size=(input_dim, hidden_dim))\n",
    "        self.b1 = np.zeros((hidden_dim, 1))\n",
    "\n",
    "    def forward_propagation(self, x):\n",
    "        \"\"\"\n",
    "        Compute forward propagation step. This is called by fit function.\n",
    "        input:\n",
    "            x: a numpy vector. Single data point.\n",
    "        output:\n",
    "            z1: input layer pre-activation function output.\n",
    "            a1: input layer activation function output.\n",
    "        \"\"\"\n",
    "\n",
    "        #############################################################################\n",
    "        # TODO: Compute the input layer pre-activation linear function.             #\n",
    "        #############################################################################\n",
    "        # START OF YOUR CODE\n",
    "        z1 = np.dot(np.transpose(self.W1), x) + self.b1\n",
    "        \n",
    "        if z1 >= 0:\n",
    "            a1 = 1\n",
    "        else:\n",
    "            a1 = -1\n",
    "\n",
    "        return z1, a1\n",
    "\n",
    "    def update(self, x, y, z1, a1):\n",
    "        #############################################################################\n",
    "        # TODO: Compute W2 and b2 gradiants.                                        #\n",
    "        #############################################################################\n",
    "        # START OF YOUR CODE\n",
    "        if y != a1: \n",
    "            self.W1 = self.W1 + (np.multiply(self.learning_rate, np.multiply(y, x)))\n",
    "            self.b1 = self.b1 + (self.learning_rate * y)\n",
    "\n",
    "    def fit(self, X, Y, plot_loss=False):\n",
    "        index = list(range(X.shape[0]))\n",
    "        for epoch in range(self.epochs):\n",
    "            np.random.shuffle(index)\n",
    "            for idx in index:\n",
    "                x = X[idx]\n",
    "                x= x.reshape(1, self.input_dim).T\n",
    "                y = Y[idx]\n",
    "                z1, a1 = self.forward_propagation(x)\n",
    "                self.update(x, y, z1, a1)\n",
    "\n",
    "    def predict(self, X):\n",
    "        #############################################################################\n",
    "        # TODO: Implement the predict function.                                     #\n",
    "        #############################################################################\n",
    "        # START OF YOUR CODE\n",
    "        results = []\n",
    "        for x in X:\n",
    "            x = x.reshape(1, self.input_dim).T\n",
    "            z1, a1= self.forward_propagation(x)\n",
    "            results.append([z1, a1])\n",
    "        Y_hat = np.array(results).reshape([len(X), 2])\n",
    "        return Y_hat\n"
   ]
  },
  {
   "cell_type": "code",
   "execution_count": 224,
   "metadata": {},
   "outputs": [],
   "source": [
    "classifiers = []\n",
    "for it in range(20):\n",
    "    classifiers.append(Perceptron(5000, 1, epochs=50))\n",
    "    classifiers[-1].fit(vectors_train, targets[it])"
   ]
  },
  {
   "cell_type": "code",
   "execution_count": 225,
   "metadata": {},
   "outputs": [],
   "source": [
    "newsgroups_test = fetch_20newsgroups(subset='test', remove=('headers', 'footers', 'quotes'))\n",
    "vectors_test = vectorizer.transform(newsgroups_test.data)\n",
    "vectors_test = vectors_test.toarray()\n",
    "test_targets = []\n",
    "for i in range(20):\n",
    "    test_targets.append([])\n",
    "for item in newsgroups_test.target:\n",
    "    for i in range(20):\n",
    "        if i == item:\n",
    "            test_targets[i].append(1)\n",
    "        else:\n",
    "            test_targets[i].append(0)\n",
    "test_targets = np.array(test_targets)"
   ]
  },
  {
   "cell_type": "code",
   "execution_count": 226,
   "metadata": {},
   "outputs": [],
   "source": [
    "metrics = []\n",
    "results = []\n",
    "for i in range(20):\n",
    "    metrics.append({\"tp\":0, \"fn\":0, \"tn\":0, \"fp\":0})\n",
    "    result = classifiers[i].predict(vectors_train)\n",
    "    results.append(result)\n",
    "    count = 0\n",
    "    for item in result:\n",
    "        if item[1] == targets[i][count] and item[1] == 1:\n",
    "            metrics[-1]['tp'] += 1\n",
    "        elif item[1] == targets[i][count] and item[1] == -1:\n",
    "            metrics[-1]['tn'] += 1\n",
    "        elif item[1] != targets[i][count] and item[1] == 1:\n",
    "            metrics[-1]['fp'] += 1 \n",
    "        elif item[1] != targets[i][count] and item[1] == -1:\n",
    "            metrics[-1]['fn'] += 1 \n",
    "        count += 1"
   ]
  },
  {
   "cell_type": "code",
   "execution_count": 227,
   "metadata": {},
   "outputs": [
    {
     "data": {
      "text/plain": [
       "[{'tp': 480, 'fn': 0, 'tn': 10261, 'fp': 573},\n",
       " {'tp': 584, 'fn': 0, 'tn': 10152, 'fp': 578},\n",
       " {'tp': 558, 'fn': 33, 'tn': 10723, 'fp': 0},\n",
       " {'tp': 574, 'fn': 16, 'tn': 10723, 'fp': 1},\n",
       " {'tp': 556, 'fn': 22, 'tn': 10736, 'fp': 0},\n",
       " {'tp': 590, 'fn': 3, 'tn': 10721, 'fp': 0},\n",
       " {'tp': 575, 'fn': 10, 'tn': 10721, 'fp': 8},\n",
       " {'tp': 594, 'fn': 0, 'tn': 10317, 'fp': 403},\n",
       " {'tp': 582, 'fn': 16, 'tn': 10716, 'fp': 0},\n",
       " {'tp': 570, 'fn': 27, 'tn': 10717, 'fp': 0},\n",
       " {'tp': 583, 'fn': 17, 'tn': 10714, 'fp': 0},\n",
       " {'tp': 574, 'fn': 21, 'tn': 10719, 'fp': 0},\n",
       " {'tp': 573, 'fn': 18, 'tn': 10720, 'fp': 3},\n",
       " {'tp': 574, 'fn': 20, 'tn': 10720, 'fp': 0},\n",
       " {'tp': 576, 'fn': 17, 'tn': 10721, 'fp': 0},\n",
       " {'tp': 590, 'fn': 9, 'tn': 10715, 'fp': 0},\n",
       " {'tp': 531, 'fn': 15, 'tn': 10767, 'fp': 1},\n",
       " {'tp': 564, 'fn': 0, 'tn': 10334, 'fp': 416},\n",
       " {'tp': 450, 'fn': 15, 'tn': 10849, 'fp': 0},\n",
       " {'tp': 359, 'fn': 18, 'tn': 10937, 'fp': 0}]"
      ]
     },
     "execution_count": 227,
     "metadata": {},
     "output_type": "execute_result"
    }
   ],
   "source": [
    "metrics"
   ]
  },
  {
   "cell_type": "code",
   "execution_count": 228,
   "metadata": {},
   "outputs": [],
   "source": [
    "all_results = []\n",
    "for i in range(vectors_train.shape[0]):\n",
    "    data = []\n",
    "    for j in range(20):\n",
    "        data.append(results[j][i][0])\n",
    "    all_results.append(data)\n",
    "        "
   ]
  },
  {
   "cell_type": "code",
   "execution_count": 229,
   "metadata": {},
   "outputs": [],
   "source": [
    "count = 0\n",
    "t = 0\n",
    "f = 0\n",
    "for item in all_results:\n",
    "    if np.argmax(item) == newsgroups_train.target[count]:\n",
    "        t += 1\n",
    "    else:\n",
    "        f += 1\n",
    "    count += 1"
   ]
  },
  {
   "cell_type": "code",
   "execution_count": 230,
   "metadata": {},
   "outputs": [
    {
     "name": "stdout",
     "output_type": "stream",
     "text": [
      "10917\n",
      "397\n"
     ]
    }
   ],
   "source": [
    "print(t)\n",
    "print(f)"
   ]
  },
  {
   "cell_type": "code",
   "execution_count": 231,
   "metadata": {},
   "outputs": [
    {
     "name": "stdout",
     "output_type": "stream",
     "text": [
      "0.9649107300689411\n"
     ]
    }
   ],
   "source": [
    "print(t/(t+f))"
   ]
  },
  {
   "cell_type": "code",
   "execution_count": 232,
   "metadata": {},
   "outputs": [
    {
     "name": "stdout",
     "output_type": "stream",
     "text": [
      "0.554567180031864\n"
     ]
    }
   ],
   "source": [
    "metrics = []\n",
    "results = []\n",
    "for i in range(20):\n",
    "    metrics.append({\"tp\":0, \"fn\":0, \"tn\":0, \"fp\":0})\n",
    "    result = classifiers[i].predict(vectors_test)\n",
    "    results.append(result)\n",
    "    count = 0\n",
    "    for item in result:\n",
    "        if item[1] == test_targets[i][count] and item[1] == 1:\n",
    "            metrics[-1]['tp'] += 1\n",
    "        elif item[1] == test_targets[i][count] and item[1] == -1:\n",
    "            metrics[-1]['tn'] += 1\n",
    "        elif item[1] != test_targets[i][count] and item[1] == 1:\n",
    "            metrics[-1]['fp'] += 1 \n",
    "        elif item[1] != test_targets[i][count] and item[1] == -1:\n",
    "            metrics[-1]['fn'] += 1 \n",
    "        count += 1\n",
    "all_results = []\n",
    "for i in range(vectors_test.shape[0]):\n",
    "    data = []\n",
    "    for j in range(20):\n",
    "        data.append(results[j][i][0])\n",
    "    all_results.append(data)\n",
    "count = 0\n",
    "t = 0\n",
    "f = 0\n",
    "for item in all_results:\n",
    "    if np.argmax(item) == newsgroups_test.target[count]:\n",
    "        t += 1\n",
    "    else:\n",
    "        f += 1\n",
    "    count += 1\n",
    "print(t/(t+f))"
   ]
  },
  {
   "cell_type": "code",
   "execution_count": null,
   "metadata": {},
   "outputs": [],
   "source": []
  }
 ],
 "metadata": {
  "kernelspec": {
   "display_name": "Python 3",
   "language": "python",
   "name": "python3"
  },
  "language_info": {
   "codemirror_mode": {
    "name": "ipython",
    "version": 3
   },
   "file_extension": ".py",
   "mimetype": "text/x-python",
   "name": "python",
   "nbconvert_exporter": "python",
   "pygments_lexer": "ipython3",
   "version": "3.7.3"
  }
 },
 "nbformat": 4,
 "nbformat_minor": 4
}
